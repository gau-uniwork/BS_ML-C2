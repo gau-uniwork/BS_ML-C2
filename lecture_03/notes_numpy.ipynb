{
 "cells": [
  {
   "cell_type": "markdown",
   "id": "a9083cf3-a22a-43b3-8e3c-d3dc1096182f",
   "metadata": {},
   "source": [
    "# Numpy"
   ]
  },
  {
   "cell_type": "code",
   "execution_count": null,
   "id": "799926b9-d293-4f08-b355-5f23c451636d",
   "metadata": {},
   "outputs": [],
   "source": [
    "%pip install numpy"
   ]
  },
  {
   "cell_type": "code",
   "execution_count": 2,
   "id": "0c036c5a-b5d8-4c9a-831e-02a352280b86",
   "metadata": {},
   "outputs": [],
   "source": [
    "import numpy as np"
   ]
  },
  {
   "cell_type": "code",
   "execution_count": 3,
   "id": "bbb0cd8e-13e0-40ae-b661-9227ef964749",
   "metadata": {
    "scrolled": true
   },
   "outputs": [
    {
     "name": "stdout",
     "output_type": "stream",
     "text": [
      "[1 2 3 4]\n"
     ]
    }
   ],
   "source": [
    "print(np.array([1, 2, 3, 4]))"
   ]
  },
  {
   "cell_type": "code",
   "execution_count": 4,
   "id": "ba3252b7-6f73-45d1-bd8f-5d872148de77",
   "metadata": {},
   "outputs": [],
   "source": [
    "a = np.array([\n",
    "    [1, 2, 3], \n",
    "    [1, 2, 3]\n",
    "])\n",
    "b = np.array([[1, 2, 2], [1, 2, 2], [1, 4, 5]])\n",
    "c = np.array([\n",
    "    [1, 2], [2, 3]\n",
    "])"
   ]
  },
  {
   "cell_type": "code",
   "execution_count": 5,
   "id": "9884b23c-5165-4bfd-940e-e0757258feed",
   "metadata": {},
   "outputs": [
    {
     "data": {
      "text/plain": [
       "array([[ 6, 18, 21],\n",
       "       [ 6, 18, 21]])"
      ]
     },
     "execution_count": 5,
     "metadata": {},
     "output_type": "execute_result"
    }
   ],
   "source": [
    "a.dot(b)\n",
    "# a.dot(c) # error"
   ]
  },
  {
   "cell_type": "code",
   "execution_count": 6,
   "id": "3a850716-b6b4-41f1-920c-7aa79ad611b7",
   "metadata": {},
   "outputs": [
    {
     "data": {
      "text/plain": [
       "array([[1, 4, 9],\n",
       "       [1, 4, 9]])"
      ]
     },
     "execution_count": 6,
     "metadata": {},
     "output_type": "execute_result"
    }
   ],
   "source": [
    "a * a"
   ]
  },
  {
   "cell_type": "code",
   "execution_count": 7,
   "id": "bc1bbf54-d423-4c61-9296-451137a9e807",
   "metadata": {},
   "outputs": [
    {
     "data": {
      "text/plain": [
       "array([[ 6, 18, 21],\n",
       "       [ 6, 18, 21]])"
      ]
     },
     "execution_count": 7,
     "metadata": {},
     "output_type": "execute_result"
    }
   ],
   "source": [
    "a @ b"
   ]
  },
  {
   "cell_type": "code",
   "execution_count": 8,
   "id": "0d5e0283-149f-4b81-ae1f-9db6a8109ff6",
   "metadata": {},
   "outputs": [
    {
     "data": {
      "text/plain": [
       "(6,)"
      ]
     },
     "execution_count": 8,
     "metadata": {},
     "output_type": "execute_result"
    }
   ],
   "source": [
    "x = np.array([2 ,4 ,5, 6, 10, 11])\n",
    "\n",
    "x.shape"
   ]
  },
  {
   "cell_type": "code",
   "execution_count": 9,
   "id": "9ac3a93d-a3c1-4365-8b7f-2cb80be28883",
   "metadata": {},
   "outputs": [
    {
     "data": {
      "text/plain": [
       "array([ 5, 10])"
      ]
     },
     "execution_count": 9,
     "metadata": {},
     "output_type": "execute_result"
    }
   ],
   "source": [
    "x[4:6]\n",
    "x[0]\n",
    "x[-1]\n",
    "x[1:4:1]\n",
    "x[2:-1:2]"
   ]
  },
  {
   "cell_type": "code",
   "execution_count": 10,
   "id": "8b06c722-9b84-45ab-9114-19a30c7103ff",
   "metadata": {},
   "outputs": [
    {
     "data": {
      "text/plain": [
       "np.float64(6.333333333333333)"
      ]
     },
     "execution_count": 10,
     "metadata": {},
     "output_type": "execute_result"
    }
   ],
   "source": [
    "np.sum(x)\n",
    "np.mean(x)"
   ]
  },
  {
   "cell_type": "code",
   "execution_count": 11,
   "id": "4a9ba42c-71d5-4eb3-a17a-3503bb0cf329",
   "metadata": {},
   "outputs": [
    {
     "data": {
      "text/plain": [
       "array([ 0,  1,  2,  3,  4,  5,  6,  7,  8,  9, 10, 11])"
      ]
     },
     "execution_count": 11,
     "metadata": {},
     "output_type": "execute_result"
    }
   ],
   "source": [
    "y = np.arange(0, 12)\n",
    "y"
   ]
  },
  {
   "cell_type": "code",
   "execution_count": 12,
   "id": "ea4524cb-b5de-4f8d-98ae-fc1592e03252",
   "metadata": {},
   "outputs": [
    {
     "data": {
      "text/plain": [
       "array([[ 0,  1,  2,  3,  4,  5],\n",
       "       [ 6,  7,  8,  9, 10, 11]])"
      ]
     },
     "execution_count": 12,
     "metadata": {},
     "output_type": "execute_result"
    }
   ],
   "source": [
    "y.reshape(2, 6)"
   ]
  },
  {
   "cell_type": "code",
   "execution_count": 13,
   "id": "c3631174",
   "metadata": {},
   "outputs": [
    {
     "data": {
      "text/plain": [
       "array([[0., 0., 0., 0., 0., 0., 0., 0.],\n",
       "       [0., 0., 0., 0., 0., 0., 0., 0.],\n",
       "       [0., 0., 0., 0., 0., 0., 0., 0.],\n",
       "       [0., 0., 0., 0., 0., 0., 0., 0.],\n",
       "       [0., 0., 0., 0., 0., 0., 0., 0.],\n",
       "       [0., 0., 0., 0., 0., 0., 0., 0.],\n",
       "       [0., 0., 0., 0., 0., 0., 0., 0.],\n",
       "       [0., 0., 0., 0., 0., 0., 0., 0.]])"
      ]
     },
     "execution_count": 13,
     "metadata": {},
     "output_type": "execute_result"
    }
   ],
   "source": [
    "np.zeros(shape=(8, 8))"
   ]
  },
  {
   "cell_type": "code",
   "execution_count": 14,
   "id": "38c0b6de",
   "metadata": {},
   "outputs": [
    {
     "data": {
      "text/plain": [
       "array([[1., 1., 1., 1.],\n",
       "       [1., 1., 1., 1.],\n",
       "       [1., 1., 1., 1.],\n",
       "       [1., 1., 1., 1.]])"
      ]
     },
     "execution_count": 14,
     "metadata": {},
     "output_type": "execute_result"
    }
   ],
   "source": [
    "np.ones(shape=(4, 4))"
   ]
  },
  {
   "cell_type": "code",
   "execution_count": 15,
   "id": "ded0ac99",
   "metadata": {},
   "outputs": [
    {
     "data": {
      "text/plain": [
       "array([2, 2, 2, 2, 2])"
      ]
     },
     "execution_count": 15,
     "metadata": {},
     "output_type": "execute_result"
    }
   ],
   "source": [
    "np.repeat(2, 5)"
   ]
  },
  {
   "cell_type": "code",
   "execution_count": 16,
   "id": "42a472bb",
   "metadata": {},
   "outputs": [
    {
     "data": {
      "text/plain": [
       "array([[2, 2, 2],\n",
       "       [2, 2, 2]])"
      ]
     },
     "execution_count": 16,
     "metadata": {},
     "output_type": "execute_result"
    }
   ],
   "source": [
    "np.full(shape=(2, 3), fill_value=2)"
   ]
  },
  {
   "cell_type": "code",
   "execution_count": 17,
   "id": "7608f99d",
   "metadata": {},
   "outputs": [
    {
     "data": {
      "text/plain": [
       "array([['b', 'w', 'b', 'w', 'b', 'w', 'b', 'w'],\n",
       "       ['w', 'b', 'w', 'b', 'w', 'b', 'w', 'b'],\n",
       "       ['b', 'w', 'b', 'w', 'b', 'w', 'b', 'w'],\n",
       "       ['w', 'b', 'w', 'b', 'w', 'b', 'w', 'b'],\n",
       "       ['b', 'w', 'b', 'w', 'b', 'w', 'b', 'w'],\n",
       "       ['w', 'b', 'w', 'b', 'w', 'b', 'w', 'b'],\n",
       "       ['b', 'w', 'b', 'w', 'b', 'w', 'b', 'w'],\n",
       "       ['w', 'b', 'w', 'b', 'w', 'b', 'w', 'b']], dtype='<U1')"
      ]
     },
     "execution_count": 17,
     "metadata": {},
     "output_type": "execute_result"
    }
   ],
   "source": [
    "b = np.full(shape=(8, 8), fill_value=\"b\")\n",
    "b[1::2, ::2] = \"w\"\n",
    "b[::2, 1::2] = \"w\"\n",
    "b"
   ]
  },
  {
   "cell_type": "code",
   "execution_count": 18,
   "id": "a8d90045-2623-417c-ae10-48eef4914ace",
   "metadata": {},
   "outputs": [
    {
     "data": {
      "text/plain": [
       "array([[2, 3, 2],\n",
       "       [3, 3, 4]], dtype=int32)"
      ]
     },
     "execution_count": 18,
     "metadata": {},
     "output_type": "execute_result"
    }
   ],
   "source": [
    "np.random.seed(0)\n",
    "np.random.randint(2, 5, size=(2, 3))"
   ]
  },
  {
   "cell_type": "code",
   "execution_count": 19,
   "id": "eddd81fc-d8f5-46b5-9a23-588203f8b3b4",
   "metadata": {},
   "outputs": [
    {
     "data": {
      "text/plain": [
       "array([[5, 6, 6],\n",
       "       [5, 6, 6]])"
      ]
     },
     "execution_count": 19,
     "metadata": {},
     "output_type": "execute_result"
    }
   ],
   "source": [
    "np.random.choice([3, 2, 5, 6], p=[0.1, 0.2, 0.2, 0.5], size=(2, 3))"
   ]
  },
  {
   "cell_type": "code",
   "execution_count": 20,
   "id": "48b29231-3461-4f00-bb9a-ee5a85e0aee9",
   "metadata": {},
   "outputs": [
    {
     "data": {
      "text/plain": [
       "array([[1, 1],\n",
       "       [2, 2],\n",
       "       [3, 3]])"
      ]
     },
     "execution_count": 20,
     "metadata": {},
     "output_type": "execute_result"
    }
   ],
   "source": [
    "a.T"
   ]
  },
  {
   "cell_type": "code",
   "execution_count": 21,
   "id": "4f362f2b-0adc-4dc0-a9da-3036e8b4cad9",
   "metadata": {},
   "outputs": [
    {
     "data": {
      "text/plain": [
       "array([[2, 3],\n",
       "       [2, 3]])"
      ]
     },
     "execution_count": 21,
     "metadata": {},
     "output_type": "execute_result"
    }
   ],
   "source": [
    "np.delete(a, 0, axis=1)"
   ]
  },
  {
   "cell_type": "code",
   "execution_count": 22,
   "id": "5d6233b8-9930-4ddf-81c4-ae4f404b76de",
   "metadata": {},
   "outputs": [],
   "source": [
    "x = np.random.randint(1, 50, size=20)"
   ]
  },
  {
   "cell_type": "code",
   "execution_count": 23,
   "id": "9e8205d7",
   "metadata": {},
   "outputs": [
    {
     "data": {
      "text/plain": [
       "array([1], dtype=int32)"
      ]
     },
     "execution_count": 23,
     "metadata": {},
     "output_type": "execute_result"
    }
   ],
   "source": [
    "x[x < 5]"
   ]
  },
  {
   "cell_type": "code",
   "execution_count": 24,
   "id": "52e0c201",
   "metadata": {},
   "outputs": [
    {
     "data": {
      "text/plain": [
       "array([14], dtype=int32)"
      ]
     },
     "execution_count": 24,
     "metadata": {},
     "output_type": "execute_result"
    }
   ],
   "source": [
    "x[(x < 15) & (x > 10)]\n",
    "# x[10 < x < 15] # error"
   ]
  },
  {
   "cell_type": "code",
   "execution_count": 25,
   "id": "401c07e8",
   "metadata": {},
   "outputs": [
    {
     "data": {
      "text/plain": [
       "(17,)"
      ]
     },
     "execution_count": 25,
     "metadata": {},
     "output_type": "execute_result"
    }
   ],
   "source": [
    "x[(x > 10) | (x < 5)].shape"
   ]
  },
  {
   "cell_type": "code",
   "execution_count": 26,
   "id": "b5b2ccb7",
   "metadata": {},
   "outputs": [],
   "source": [
    "a = np.array([1, 2, 3])\n",
    "b = np.array([1, 2, 3])"
   ]
  },
  {
   "cell_type": "code",
   "execution_count": 27,
   "id": "0de50ff7",
   "metadata": {},
   "outputs": [
    {
     "data": {
      "text/plain": [
       "array([[1, 1],\n",
       "       [2, 2],\n",
       "       [3, 3]])"
      ]
     },
     "execution_count": 27,
     "metadata": {},
     "output_type": "execute_result"
    }
   ],
   "source": [
    "np.stack([a, b], axis=1)"
   ]
  },
  {
   "cell_type": "code",
   "execution_count": 28,
   "id": "3085ee42",
   "metadata": {},
   "outputs": [
    {
     "data": {
      "text/plain": [
       "array([[1, 2, 3],\n",
       "       [1, 2, 3]])"
      ]
     },
     "execution_count": 28,
     "metadata": {},
     "output_type": "execute_result"
    }
   ],
   "source": [
    "np.stack([a, b], axis=0)"
   ]
  },
  {
   "cell_type": "code",
   "execution_count": 30,
   "id": "1c061209",
   "metadata": {},
   "outputs": [
    {
     "data": {
      "text/plain": [
       "array([1, 2, 3, 1, 2, 3])"
      ]
     },
     "execution_count": 30,
     "metadata": {},
     "output_type": "execute_result"
    }
   ],
   "source": [
    "np.concatenate([a, b], axis=0)"
   ]
  }
 ],
 "metadata": {
  "kernelspec": {
   "display_name": "venv",
   "language": "python",
   "name": "python3"
  },
  "language_info": {
   "codemirror_mode": {
    "name": "ipython",
    "version": 3
   },
   "file_extension": ".py",
   "mimetype": "text/x-python",
   "name": "python",
   "nbconvert_exporter": "python",
   "pygments_lexer": "ipython3",
   "version": "3.12.1"
  }
 },
 "nbformat": 4,
 "nbformat_minor": 5
}
