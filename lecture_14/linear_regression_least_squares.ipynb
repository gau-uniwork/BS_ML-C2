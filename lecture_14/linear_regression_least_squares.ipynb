{
 "cells": [
  {
   "cell_type": "markdown",
   "metadata": {},
   "source": [
    "# წრფივი რეგრესია - საუკეთესო წრფე"
   ]
  },
  {
   "cell_type": "code",
   "execution_count": 1,
   "metadata": {},
   "outputs": [],
   "source": [
    "import numpy as np\n",
    "import matplotlib.pyplot as plt"
   ]
  },
  {
   "cell_type": "code",
   "execution_count": 2,
   "metadata": {},
   "outputs": [],
   "source": [
    "np.random.seed(0)\n",
    "\n",
    "x = np.arange(1, 10)\n",
    "y = 0.4 * x + 3 + np.random.uniform(-2, 2, size=len(x))\n",
    "\n",
    "x_mean = x.mean()\n",
    "y_mean = y.mean()"
   ]
  },
  {
   "cell_type": "code",
   "execution_count": 3,
   "metadata": {},
   "outputs": [],
   "source": [
    "def func(m, b, x):\n",
    "    return m*x + b"
   ]
  },
  {
   "cell_type": "markdown",
   "metadata": {},
   "source": [
    "\n",
    "$$\n",
    "\\begin{align}\n",
    "\n",
    "y &= mx + b \\\\ \n",
    "m &= \\frac{\\sum{(x - \\overline{x}})(y - \\overline{y})}{\\sum{(x - \\overline{x})^2}} \\\\\n",
    "b &= \\overline{y} - m * \\overline{x}\n",
    "\n",
    "\\end{align}\n",
    "$$"
   ]
  },
  {
   "cell_type": "code",
   "execution_count": 4,
   "metadata": {},
   "outputs": [],
   "source": [
    "m = np.sum((x - x_mean) * (y - y_mean)) / sum(np.pow(x - x_mean, 2))\n",
    "b = y_mean - m * x_mean"
   ]
  },
  {
   "cell_type": "code",
   "execution_count": 5,
   "metadata": {},
   "outputs": [
    {
     "data": {
      "image/png": "[encoded data removed]",
      "text/plain": [
       "<Figure size 500x500 with 1 Axes>"
      ]
     },
     "metadata": {},
     "output_type": "display_data"
    }
   ],
   "source": [
    "fig = plt.figure(figsize=(5, 5))\n",
    "ax = fig.add_subplot(111)\n",
    "ax.set_xlim(min(x.min(), y.min())-1, max(x.max(), y.max())+1)\n",
    "ax.set_ylim(min(x.min(), y.min())-1, max(x.max(), y.max())+1)\n",
    "\n",
    "ax.scatter(x, y)\n",
    "\n",
    "ax.scatter(x_mean, y_mean, color=\"green\")\n",
    "ax.text(x_mean - .4, y_mean + .1, r\"$(\\overline{x}, \\overline{y}$)\")\n",
    "# ax.add_patch(plt.Circle((x_mean, y_mean), radius=0.2, fill=False))\n",
    "\n",
    "# ax.axhline(y_mean, color=\"purple\", linewidth=2, linestyle=\"dotted\")\n",
    "# ax.axvline(x_mean, color=\"teal\", linewidth=2, linestyle=\"dotted\")\n",
    "\n",
    "\n",
    "ax.plot(ax.get_xlim(), func(m, b, np.array(ax.get_xlim())), linestyle=\"--\", color=\"brown\")\n",
    "# ax.axline((x_mean, y_mean), slope=m, linestyle=\"--\", color=\"brown\")\n",
    "plt.show()"
   ]
  }
 ],
 "metadata": {
  "kernelspec": {
   "display_name": "venv",
   "language": "python",
   "name": "python3"
  },
  "language_info": {
   "codemirror_mode": {
    "name": "ipython",
    "version": 3
   },
   "file_extension": ".py",
   "mimetype": "text/x-python",
   "name": "python",
   "nbconvert_exporter": "python",
   "pygments_lexer": "ipython3",
   "version": "3.12.1"
  }
 },
 "nbformat": 4,
 "nbformat_minor": 2
}
