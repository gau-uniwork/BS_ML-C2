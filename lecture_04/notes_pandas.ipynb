{
 "cells": [
  {
   "cell_type": "markdown",
   "id": "38cb67f0-4bdb-423f-895e-bfc436f2bb5a",
   "metadata": {},
   "source": [
    "# Pandas"
   ]
  },
  {
   "cell_type": "code",
   "execution_count": null,
   "id": "a69d2899-5d60-48d4-b761-faee3eaa510d",
   "metadata": {},
   "outputs": [],
   "source": [
    "!pip install pandas"
   ]
  },
  {
   "cell_type": "code",
   "execution_count": 2,
   "id": "ad6530ba-9fd9-4f02-a396-e3734d7248c2",
   "metadata": {},
   "outputs": [],
   "source": [
    "import pandas as pd"
   ]
  },
  {
   "cell_type": "markdown",
   "id": "00d616db-654b-4ebe-bb23-08f1215aab70",
   "metadata": {},
   "source": [
    "dataframe-ის შექმნა dictionary-ის გამოყენებით.\n",
    "- key - სვეტის სახელი\n",
    "- value - სვეტის მონაცემები list-ის სახით"
   ]
  },
  {
   "cell_type": "code",
   "execution_count": 3,
   "id": "d819db8f-4c4a-4dd6-b617-e343c7bf8f75",
   "metadata": {},
   "outputs": [
    {
     "data": {
      "text/html": [
       "<div>\n",
       "<style scoped>\n",
       "    .dataframe tbody tr th:only-of-type {\n",
       "        vertical-align: middle;\n",
       "    }\n",
       "\n",
       "    .dataframe tbody tr th {\n",
       "        vertical-align: top;\n",
       "    }\n",
       "\n",
       "    .dataframe thead th {\n",
       "        text-align: right;\n",
       "    }\n",
       "</style>\n",
       "<table border=\"1\" class=\"dataframe\">\n",
       "  <thead>\n",
       "    <tr style=\"text-align: right;\">\n",
       "      <th></th>\n",
       "      <th>first_name</th>\n",
       "      <th>last_name</th>\n",
       "      <th>age</th>\n",
       "    </tr>\n",
       "  </thead>\n",
       "  <tbody>\n",
       "    <tr>\n",
       "      <th>0</th>\n",
       "      <td>Abraham</td>\n",
       "      <td>Lincoln</td>\n",
       "      <td>230</td>\n",
       "    </tr>\n",
       "    <tr>\n",
       "      <th>1</th>\n",
       "      <td>George</td>\n",
       "      <td>Washgington</td>\n",
       "      <td>300</td>\n",
       "    </tr>\n",
       "    <tr>\n",
       "      <th>2</th>\n",
       "      <td>Thomas</td>\n",
       "      <td>Jefferson</td>\n",
       "      <td>200</td>\n",
       "    </tr>\n",
       "  </tbody>\n",
       "</table>\n",
       "</div>"
      ],
      "text/plain": [
       "  first_name    last_name  age\n",
       "0    Abraham      Lincoln  230\n",
       "1     George  Washgington  300\n",
       "2     Thomas    Jefferson  200"
      ]
     },
     "execution_count": 3,
     "metadata": {},
     "output_type": "execute_result"
    }
   ],
   "source": [
    "pd.DataFrame({\n",
    "    \"first_name\": [\"Abraham\", \"George\", \"Thomas\"],\n",
    "    \"last_name\": [\"Lincoln\", \"Washgington\", \"Jefferson\"],\n",
    "    \"age\": [230, 300, 200]\n",
    "})"
   ]
  },
  {
   "cell_type": "markdown",
   "id": "6a2e9993-d313-4f5f-9a01-e95541d40fd7",
   "metadata": {},
   "source": [
    "dataframe-ის შექმნა მატრიცით."
   ]
  },
  {
   "cell_type": "code",
   "execution_count": 4,
   "id": "9e160a58-e9ef-411d-8223-7703bae1589a",
   "metadata": {},
   "outputs": [
    {
     "data": {
      "text/html": [
       "<div>\n",
       "<style scoped>\n",
       "    .dataframe tbody tr th:only-of-type {\n",
       "        vertical-align: middle;\n",
       "    }\n",
       "\n",
       "    .dataframe tbody tr th {\n",
       "        vertical-align: top;\n",
       "    }\n",
       "\n",
       "    .dataframe thead th {\n",
       "        text-align: right;\n",
       "    }\n",
       "</style>\n",
       "<table border=\"1\" class=\"dataframe\">\n",
       "  <thead>\n",
       "    <tr style=\"text-align: right;\">\n",
       "      <th></th>\n",
       "      <th>first_name</th>\n",
       "      <th>last_name</th>\n",
       "      <th>age</th>\n",
       "    </tr>\n",
       "  </thead>\n",
       "  <tbody>\n",
       "    <tr>\n",
       "      <th>0</th>\n",
       "      <td>Abraham</td>\n",
       "      <td>Lincoln</td>\n",
       "      <td>230.0</td>\n",
       "    </tr>\n",
       "    <tr>\n",
       "      <th>1</th>\n",
       "      <td>Thomas</td>\n",
       "      <td>Jefferson</td>\n",
       "      <td>200.0</td>\n",
       "    </tr>\n",
       "    <tr>\n",
       "      <th>2</th>\n",
       "      <td>George</td>\n",
       "      <td>washington</td>\n",
       "      <td>NaN</td>\n",
       "    </tr>\n",
       "    <tr>\n",
       "      <th>3</th>\n",
       "      <td>Franklin</td>\n",
       "      <td>Roosevelt</td>\n",
       "      <td>120.0</td>\n",
       "    </tr>\n",
       "  </tbody>\n",
       "</table>\n",
       "</div>"
      ],
      "text/plain": [
       "  first_name   last_name    age\n",
       "0    Abraham     Lincoln  230.0\n",
       "1     Thomas   Jefferson  200.0\n",
       "2     George  washington    NaN\n",
       "3   Franklin   Roosevelt  120.0"
      ]
     },
     "execution_count": 4,
     "metadata": {},
     "output_type": "execute_result"
    }
   ],
   "source": [
    "df = pd.DataFrame([\n",
    "    [\"Abraham\", \"Lincoln\", 230.0],\n",
    "    [\"Thomas\", \"Jefferson\", 200],\n",
    "    [\"George\", \"washington\", None],\n",
    "    [\"Franklin\", \"Roosevelt\", 120]\n",
    "], columns=[\"first_name\", \"last_name\", \"age\"])\n",
    "\n",
    "df"
   ]
  },
  {
   "cell_type": "markdown",
   "id": "d9b9d874",
   "metadata": {},
   "source": [
    "მონაცემების შენახვა შესაძლებელია სხვადასხვა ფორმატებში (json, excel, csv...), რისთვისაც არსებობს სხვადასხვა მეთოდები:\n",
    "- df.to_csv(\"file.csv\")\n",
    "- df.to_json(\"file.json\")\n",
    "- df.to_excel(\"file.xlsx\")\n",
    "- ..."
   ]
  },
  {
   "cell_type": "code",
   "execution_count": 5,
   "id": "64d384f4-e71f-491a-86ab-ea73b4367603",
   "metadata": {},
   "outputs": [],
   "source": [
    "df.to_csv(\"./data/data.csv\", index=False)"
   ]
  },
  {
   "cell_type": "markdown",
   "id": "bd145e51",
   "metadata": {},
   "source": [
    "**ინდექსები**\n",
    "\n",
    "dataframe-ის შექმნისას თითოეულ სტრიქონს ენიჭება ინდექსი - რიცხვი 0-დან n-მდე (n = სვეტების რაოდენობა), რომელიც შეგვიძლია გამოვიყენოთ ფილტრაციისთვის.\n",
    "\n",
    "ინდექსის შეცვლა შესაძლებელია .set_index() მეთოდის გამოყენებით."
   ]
  },
  {
   "cell_type": "code",
   "execution_count": 6,
   "id": "8ffdfdbf-c152-4df8-8663-8ba31bba9e5f",
   "metadata": {},
   "outputs": [
    {
     "data": {
      "text/plain": [
       "(4, 3)"
      ]
     },
     "execution_count": 6,
     "metadata": {},
     "output_type": "execute_result"
    }
   ],
   "source": [
    "df.shape"
   ]
  },
  {
   "cell_type": "code",
   "execution_count": 7,
   "id": "314a8974-ac50-4bd3-9612-0ce315e49cc2",
   "metadata": {},
   "outputs": [],
   "source": [
    "df[\"id\"] = list(map(lambda x: \"00\" + str(x), list(range(0, df.shape[0]))))"
   ]
  },
  {
   "cell_type": "code",
   "execution_count": 8,
   "id": "c7130707-d25c-4a89-86bb-a310453be369",
   "metadata": {},
   "outputs": [],
   "source": [
    "# copy the existing df, set a new index and return\n",
    "df.set_index(\"id\", inplace=False)\n",
    "\n",
    "# modify the existing df\n",
    "df.set_index(\"id\", inplace=True)"
   ]
  },
  {
   "cell_type": "markdown",
   "id": "26e8a15c",
   "metadata": {},
   "source": [
    "***dataframe-ის სხვადასხვა მეთოებს შესაძლოა ქონდეთ inplace პარამეტრი, რომელიც განსაზღვრავს მეთოდი დააბრუნებს ახალ dataframe-ს თუ შეცვლის არსებულს.***"
   ]
  },
  {
   "cell_type": "code",
   "execution_count": 9,
   "id": "f6e0a1b8",
   "metadata": {},
   "outputs": [
    {
     "data": {
      "text/html": [
       "<div>\n",
       "<style scoped>\n",
       "    .dataframe tbody tr th:only-of-type {\n",
       "        vertical-align: middle;\n",
       "    }\n",
       "\n",
       "    .dataframe tbody tr th {\n",
       "        vertical-align: top;\n",
       "    }\n",
       "\n",
       "    .dataframe thead th {\n",
       "        text-align: right;\n",
       "    }\n",
       "</style>\n",
       "<table border=\"1\" class=\"dataframe\">\n",
       "  <thead>\n",
       "    <tr style=\"text-align: right;\">\n",
       "      <th></th>\n",
       "      <th>first_name</th>\n",
       "      <th>last_name</th>\n",
       "      <th>age</th>\n",
       "    </tr>\n",
       "    <tr>\n",
       "      <th>id</th>\n",
       "      <th></th>\n",
       "      <th></th>\n",
       "      <th></th>\n",
       "    </tr>\n",
       "  </thead>\n",
       "  <tbody>\n",
       "    <tr>\n",
       "      <th>000</th>\n",
       "      <td>Abraham</td>\n",
       "      <td>Lincoln</td>\n",
       "      <td>230.0</td>\n",
       "    </tr>\n",
       "    <tr>\n",
       "      <th>001</th>\n",
       "      <td>Thomas</td>\n",
       "      <td>Jefferson</td>\n",
       "      <td>200.0</td>\n",
       "    </tr>\n",
       "    <tr>\n",
       "      <th>002</th>\n",
       "      <td>George</td>\n",
       "      <td>washington</td>\n",
       "      <td>NaN</td>\n",
       "    </tr>\n",
       "    <tr>\n",
       "      <th>003</th>\n",
       "      <td>Franklin</td>\n",
       "      <td>Roosevelt</td>\n",
       "      <td>120.0</td>\n",
       "    </tr>\n",
       "  </tbody>\n",
       "</table>\n",
       "</div>"
      ],
      "text/plain": [
       "    first_name   last_name    age\n",
       "id                               \n",
       "000    Abraham     Lincoln  230.0\n",
       "001     Thomas   Jefferson  200.0\n",
       "002     George  washington    NaN\n",
       "003   Franklin   Roosevelt  120.0"
      ]
     },
     "execution_count": 9,
     "metadata": {},
     "output_type": "execute_result"
    }
   ],
   "source": [
    "df"
   ]
  },
  {
   "cell_type": "markdown",
   "id": "3feed597",
   "metadata": {},
   "source": [
    "მონაცემებზე წვდომა:"
   ]
  },
  {
   "cell_type": "code",
   "execution_count": 10,
   "id": "769cb598-e9d3-43ff-b9a1-1a51a30e8a2c",
   "metadata": {},
   "outputs": [
    {
     "data": {
      "text/plain": [
       "id\n",
       "000     Abraham\n",
       "001      Thomas\n",
       "002      George\n",
       "003    Franklin\n",
       "Name: first_name, dtype: object"
      ]
     },
     "execution_count": 10,
     "metadata": {},
     "output_type": "execute_result"
    }
   ],
   "source": [
    "df[\"first_name\"]\n",
    "df.first_name"
   ]
  },
  {
   "cell_type": "markdown",
   "id": "e69f766d",
   "metadata": {},
   "source": [
    "**loc** vs **iloc**\n",
    "- loc  - მუშაობს ინდექსის და სვეტის დასახელებებზე\n",
    "- iloc - მუშაობს რიცხვით ინდექსებზე"
   ]
  },
  {
   "cell_type": "code",
   "execution_count": 11,
   "id": "89da3757-08e7-41af-8389-a5ee4b2f4767",
   "metadata": {},
   "outputs": [
    {
     "data": {
      "text/plain": [
       "np.float64(230.0)"
      ]
     },
     "execution_count": 11,
     "metadata": {},
     "output_type": "execute_result"
    }
   ],
   "source": [
    "df.loc[\"000\", \"first_name\"]\n",
    "\n",
    "df.iloc[0, -1]"
   ]
  },
  {
   "cell_type": "markdown",
   "id": "631e8afd",
   "metadata": {},
   "source": [
    "dataframe-ში ცარიელი უჯრები წარმოდგენილია სპეციალური მონაცემთა ტიპით - NaN"
   ]
  },
  {
   "cell_type": "code",
   "execution_count": 12,
   "id": "4c94051c",
   "metadata": {},
   "outputs": [
    {
     "data": {
      "text/html": [
       "<div>\n",
       "<style scoped>\n",
       "    .dataframe tbody tr th:only-of-type {\n",
       "        vertical-align: middle;\n",
       "    }\n",
       "\n",
       "    .dataframe tbody tr th {\n",
       "        vertical-align: top;\n",
       "    }\n",
       "\n",
       "    .dataframe thead th {\n",
       "        text-align: right;\n",
       "    }\n",
       "</style>\n",
       "<table border=\"1\" class=\"dataframe\">\n",
       "  <thead>\n",
       "    <tr style=\"text-align: right;\">\n",
       "      <th></th>\n",
       "      <th>first_name</th>\n",
       "      <th>last_name</th>\n",
       "      <th>age</th>\n",
       "    </tr>\n",
       "    <tr>\n",
       "      <th>id</th>\n",
       "      <th></th>\n",
       "      <th></th>\n",
       "      <th></th>\n",
       "    </tr>\n",
       "  </thead>\n",
       "  <tbody>\n",
       "    <tr>\n",
       "      <th>000</th>\n",
       "      <td>Abraham</td>\n",
       "      <td>Lincoln</td>\n",
       "      <td>230.0</td>\n",
       "    </tr>\n",
       "    <tr>\n",
       "      <th>001</th>\n",
       "      <td>Thomas</td>\n",
       "      <td>Jefferson</td>\n",
       "      <td>200.0</td>\n",
       "    </tr>\n",
       "    <tr>\n",
       "      <th>003</th>\n",
       "      <td>Franklin</td>\n",
       "      <td>Roosevelt</td>\n",
       "      <td>120.0</td>\n",
       "    </tr>\n",
       "  </tbody>\n",
       "</table>\n",
       "</div>"
      ],
      "text/plain": [
       "    first_name  last_name    age\n",
       "id                              \n",
       "000    Abraham    Lincoln  230.0\n",
       "001     Thomas  Jefferson  200.0\n",
       "003   Franklin  Roosevelt  120.0"
      ]
     },
     "execution_count": 12,
     "metadata": {},
     "output_type": "execute_result"
    }
   ],
   "source": [
    "# drop all rows with at least one NaN value in any column\n",
    "df.dropna()"
   ]
  },
  {
   "cell_type": "code",
   "execution_count": 13,
   "id": "08b8788d-3764-4ff8-bfba-361f514858db",
   "metadata": {},
   "outputs": [],
   "source": [
    "# replace all nan values with specific value\n",
    "df[\"age\"] = df[\"age\"].fillna(df[\"age\"].mean())"
   ]
  },
  {
   "cell_type": "code",
   "execution_count": 14,
   "id": "c35a876b-33fc-4238-9ff1-2b5d411fcdae",
   "metadata": {},
   "outputs": [
    {
     "data": {
      "text/html": [
       "<div>\n",
       "<style scoped>\n",
       "    .dataframe tbody tr th:only-of-type {\n",
       "        vertical-align: middle;\n",
       "    }\n",
       "\n",
       "    .dataframe tbody tr th {\n",
       "        vertical-align: top;\n",
       "    }\n",
       "\n",
       "    .dataframe thead th {\n",
       "        text-align: right;\n",
       "    }\n",
       "</style>\n",
       "<table border=\"1\" class=\"dataframe\">\n",
       "  <thead>\n",
       "    <tr style=\"text-align: right;\">\n",
       "      <th></th>\n",
       "      <th>first_name</th>\n",
       "      <th>last_name</th>\n",
       "      <th>age</th>\n",
       "    </tr>\n",
       "    <tr>\n",
       "      <th>id</th>\n",
       "      <th></th>\n",
       "      <th></th>\n",
       "      <th></th>\n",
       "    </tr>\n",
       "  </thead>\n",
       "  <tbody>\n",
       "    <tr>\n",
       "      <th>000</th>\n",
       "      <td>Abraham</td>\n",
       "      <td>Lincoln</td>\n",
       "      <td>230.000000</td>\n",
       "    </tr>\n",
       "    <tr>\n",
       "      <th>001</th>\n",
       "      <td>Thomas</td>\n",
       "      <td>Jefferson</td>\n",
       "      <td>200.000000</td>\n",
       "    </tr>\n",
       "    <tr>\n",
       "      <th>002</th>\n",
       "      <td>George</td>\n",
       "      <td>washington</td>\n",
       "      <td>183.333333</td>\n",
       "    </tr>\n",
       "    <tr>\n",
       "      <th>003</th>\n",
       "      <td>Franklin</td>\n",
       "      <td>Roosevelt</td>\n",
       "      <td>120.000000</td>\n",
       "    </tr>\n",
       "  </tbody>\n",
       "</table>\n",
       "</div>"
      ],
      "text/plain": [
       "    first_name   last_name         age\n",
       "id                                    \n",
       "000    Abraham     Lincoln  230.000000\n",
       "001     Thomas   Jefferson  200.000000\n",
       "002     George  washington  183.333333\n",
       "003   Franklin   Roosevelt  120.000000"
      ]
     },
     "execution_count": 14,
     "metadata": {},
     "output_type": "execute_result"
    }
   ],
   "source": [
    "df"
   ]
  },
  {
   "cell_type": "markdown",
   "id": "b0a16d28",
   "metadata": {},
   "source": [
    "ლოგიკური ოპერატორები:\n",
    "\n",
    "- or  - |\n",
    "- and - &\n",
    "- not - ~\n",
    "\n",
    "dataframe-ში მონაცემების გაფილტრვა შესაძლებელია სხვადასხვა ლოგიკური პირობებით"
   ]
  },
  {
   "cell_type": "code",
   "execution_count": 15,
   "id": "3c60b8f0-8b45-4174-8a0e-cf3182003abf",
   "metadata": {},
   "outputs": [
    {
     "data": {
      "text/html": [
       "<div>\n",
       "<style scoped>\n",
       "    .dataframe tbody tr th:only-of-type {\n",
       "        vertical-align: middle;\n",
       "    }\n",
       "\n",
       "    .dataframe tbody tr th {\n",
       "        vertical-align: top;\n",
       "    }\n",
       "\n",
       "    .dataframe thead th {\n",
       "        text-align: right;\n",
       "    }\n",
       "</style>\n",
       "<table border=\"1\" class=\"dataframe\">\n",
       "  <thead>\n",
       "    <tr style=\"text-align: right;\">\n",
       "      <th></th>\n",
       "      <th>first_name</th>\n",
       "      <th>last_name</th>\n",
       "      <th>age</th>\n",
       "    </tr>\n",
       "    <tr>\n",
       "      <th>id</th>\n",
       "      <th></th>\n",
       "      <th></th>\n",
       "      <th></th>\n",
       "    </tr>\n",
       "  </thead>\n",
       "  <tbody>\n",
       "    <tr>\n",
       "      <th>000</th>\n",
       "      <td>Abraham</td>\n",
       "      <td>Lincoln</td>\n",
       "      <td>230.0</td>\n",
       "    </tr>\n",
       "    <tr>\n",
       "      <th>001</th>\n",
       "      <td>Thomas</td>\n",
       "      <td>Jefferson</td>\n",
       "      <td>200.0</td>\n",
       "    </tr>\n",
       "  </tbody>\n",
       "</table>\n",
       "</div>"
      ],
      "text/plain": [
       "    first_name  last_name    age\n",
       "id                              \n",
       "000    Abraham    Lincoln  230.0\n",
       "001     Thomas  Jefferson  200.0"
      ]
     },
     "execution_count": 15,
     "metadata": {},
     "output_type": "execute_result"
    }
   ],
   "source": [
    "df[[True, True, False, False]]"
   ]
  },
  {
   "cell_type": "code",
   "execution_count": 16,
   "id": "23ff3163",
   "metadata": {},
   "outputs": [
    {
     "data": {
      "text/html": [
       "<div>\n",
       "<style scoped>\n",
       "    .dataframe tbody tr th:only-of-type {\n",
       "        vertical-align: middle;\n",
       "    }\n",
       "\n",
       "    .dataframe tbody tr th {\n",
       "        vertical-align: top;\n",
       "    }\n",
       "\n",
       "    .dataframe thead th {\n",
       "        text-align: right;\n",
       "    }\n",
       "</style>\n",
       "<table border=\"1\" class=\"dataframe\">\n",
       "  <thead>\n",
       "    <tr style=\"text-align: right;\">\n",
       "      <th></th>\n",
       "      <th>first_name</th>\n",
       "      <th>last_name</th>\n",
       "      <th>age</th>\n",
       "    </tr>\n",
       "    <tr>\n",
       "      <th>id</th>\n",
       "      <th></th>\n",
       "      <th></th>\n",
       "      <th></th>\n",
       "    </tr>\n",
       "  </thead>\n",
       "  <tbody>\n",
       "    <tr>\n",
       "      <th>002</th>\n",
       "      <td>George</td>\n",
       "      <td>washington</td>\n",
       "      <td>183.333333</td>\n",
       "    </tr>\n",
       "    <tr>\n",
       "      <th>003</th>\n",
       "      <td>Franklin</td>\n",
       "      <td>Roosevelt</td>\n",
       "      <td>120.000000</td>\n",
       "    </tr>\n",
       "  </tbody>\n",
       "</table>\n",
       "</div>"
      ],
      "text/plain": [
       "    first_name   last_name         age\n",
       "id                                    \n",
       "002     George  washington  183.333333\n",
       "003   Franklin   Roosevelt  120.000000"
      ]
     },
     "execution_count": 16,
     "metadata": {},
     "output_type": "execute_result"
    }
   ],
   "source": [
    "df[(df.age < 200) | (df.age > 300)]"
   ]
  },
  {
   "cell_type": "markdown",
   "id": "08a85d13",
   "metadata": {},
   "source": [
    "მონაცემების წაკითხვა ფაილიდან:\n",
    "\n",
    "pandas შესაძლებლობას გვაძლევს მონაცემები წავიკითხოთ სხვადასხვა ტიპის ფაილებიდან, რისთვისაც გვაქვს სხვადასხვა მეთოდები:\n",
    "- .read_csv(\"file.csv\")\n",
    "- .read_excel(\"file.xlsx\")\n",
    "- ..."
   ]
  },
  {
   "cell_type": "code",
   "execution_count": 17,
   "id": "f3b3aa26-2198-4247-b04c-d978c9c18127",
   "metadata": {},
   "outputs": [],
   "source": [
    "df = pd.read_csv(\"./data/grades.csv\")"
   ]
  },
  {
   "cell_type": "code",
   "execution_count": 18,
   "id": "0d1b62a5-4fe9-4f57-98b5-6d905768dc5b",
   "metadata": {},
   "outputs": [
    {
     "data": {
      "text/plain": [
       "Index(['Last name', ' \"First name\"', ' \"SSN\"', '        \"Test1\"', ' \"Test2\"',\n",
       "       ' \"Test3\"', ' \"Test4\"', ' \"Final\"', ' \"Grade\"'],\n",
       "      dtype='object')"
      ]
     },
     "execution_count": 18,
     "metadata": {},
     "output_type": "execute_result"
    }
   ],
   "source": [
    "df.columns"
   ]
  },
  {
   "cell_type": "code",
   "execution_count": 19,
   "id": "55eab79d-7aef-49ee-b82d-aa9269a7a2b4",
   "metadata": {},
   "outputs": [
    {
     "data": {
      "text/plain": [
       "['Last name',\n",
       " 'First name',\n",
       " 'SSN',\n",
       " 'Test1',\n",
       " 'Test2',\n",
       " 'Test3',\n",
       " 'Test4',\n",
       " 'Final',\n",
       " 'Grade']"
      ]
     },
     "execution_count": 19,
     "metadata": {},
     "output_type": "execute_result"
    }
   ],
   "source": [
    "new_cols = []\n",
    "for c in df.columns:\n",
    "    new_cols.append(c.replace(\"\\\"\", \"\").strip())\n",
    "new_cols"
   ]
  },
  {
   "cell_type": "code",
   "execution_count": 20,
   "id": "e97a50a9-0e4c-4276-b6ed-531b783d8d77",
   "metadata": {},
   "outputs": [
    {
     "data": {
      "text/html": [
       "<div>\n",
       "<style scoped>\n",
       "    .dataframe tbody tr th:only-of-type {\n",
       "        vertical-align: middle;\n",
       "    }\n",
       "\n",
       "    .dataframe tbody tr th {\n",
       "        vertical-align: top;\n",
       "    }\n",
       "\n",
       "    .dataframe thead th {\n",
       "        text-align: right;\n",
       "    }\n",
       "</style>\n",
       "<table border=\"1\" class=\"dataframe\">\n",
       "  <thead>\n",
       "    <tr style=\"text-align: right;\">\n",
       "      <th></th>\n",
       "      <th>Last name</th>\n",
       "      <th>First name</th>\n",
       "      <th>SSN</th>\n",
       "      <th>Test1</th>\n",
       "      <th>Test2</th>\n",
       "      <th>Test3</th>\n",
       "      <th>Test4</th>\n",
       "      <th>Final</th>\n",
       "      <th>Grade</th>\n",
       "    </tr>\n",
       "  </thead>\n",
       "  <tbody>\n",
       "    <tr>\n",
       "      <th>0</th>\n",
       "      <td>Alfalfa</td>\n",
       "      <td>\"Aloysius\"</td>\n",
       "      <td>\"123-45-6789\"</td>\n",
       "      <td>40.0</td>\n",
       "      <td>90.0</td>\n",
       "      <td>100.0</td>\n",
       "      <td>83.0</td>\n",
       "      <td>49.0</td>\n",
       "      <td>\"D-\"</td>\n",
       "    </tr>\n",
       "    <tr>\n",
       "      <th>1</th>\n",
       "      <td>Alfred</td>\n",
       "      <td>\"University\"</td>\n",
       "      <td>\"123-12-1234\"</td>\n",
       "      <td>41.0</td>\n",
       "      <td>97.0</td>\n",
       "      <td>96.0</td>\n",
       "      <td>97.0</td>\n",
       "      <td>48.0</td>\n",
       "      <td>\"D+\"</td>\n",
       "    </tr>\n",
       "    <tr>\n",
       "      <th>2</th>\n",
       "      <td>Gerty</td>\n",
       "      <td>\"Gramma\"</td>\n",
       "      <td>\"567-89-0123\"</td>\n",
       "      <td>41.0</td>\n",
       "      <td>80.0</td>\n",
       "      <td>60.0</td>\n",
       "      <td>40.0</td>\n",
       "      <td>44.0</td>\n",
       "      <td>\"C\"</td>\n",
       "    </tr>\n",
       "    <tr>\n",
       "      <th>3</th>\n",
       "      <td>Android</td>\n",
       "      <td>\"Electric\"</td>\n",
       "      <td>\"087-65-4321\"</td>\n",
       "      <td>42.0</td>\n",
       "      <td>23.0</td>\n",
       "      <td>36.0</td>\n",
       "      <td>45.0</td>\n",
       "      <td>47.0</td>\n",
       "      <td>\"B-\"</td>\n",
       "    </tr>\n",
       "    <tr>\n",
       "      <th>4</th>\n",
       "      <td>Bumpkin</td>\n",
       "      <td>\"Fred\"</td>\n",
       "      <td>\"456-78-9012\"</td>\n",
       "      <td>43.0</td>\n",
       "      <td>78.0</td>\n",
       "      <td>88.0</td>\n",
       "      <td>77.0</td>\n",
       "      <td>45.0</td>\n",
       "      <td>\"A-\"</td>\n",
       "    </tr>\n",
       "    <tr>\n",
       "      <th>5</th>\n",
       "      <td>Rubble</td>\n",
       "      <td>\"Betty\"</td>\n",
       "      <td>\"234-56-7890\"</td>\n",
       "      <td>44.0</td>\n",
       "      <td>90.0</td>\n",
       "      <td>80.0</td>\n",
       "      <td>90.0</td>\n",
       "      <td>46.0</td>\n",
       "      <td>\"C-\"</td>\n",
       "    </tr>\n",
       "    <tr>\n",
       "      <th>6</th>\n",
       "      <td>Noshow</td>\n",
       "      <td>\"Cecil\"</td>\n",
       "      <td>\"345-67-8901\"</td>\n",
       "      <td>45.0</td>\n",
       "      <td>11.0</td>\n",
       "      <td>-1.0</td>\n",
       "      <td>4.0</td>\n",
       "      <td>43.0</td>\n",
       "      <td>\"F\"</td>\n",
       "    </tr>\n",
       "    <tr>\n",
       "      <th>7</th>\n",
       "      <td>Buff</td>\n",
       "      <td>\"Bif\"</td>\n",
       "      <td>\"632-79-9939\"</td>\n",
       "      <td>46.0</td>\n",
       "      <td>20.0</td>\n",
       "      <td>30.0</td>\n",
       "      <td>40.0</td>\n",
       "      <td>50.0</td>\n",
       "      <td>\"B+\"</td>\n",
       "    </tr>\n",
       "    <tr>\n",
       "      <th>8</th>\n",
       "      <td>Airpump</td>\n",
       "      <td>\"Andrew\"</td>\n",
       "      <td>\"223-45-6789\"</td>\n",
       "      <td>49.0      1.0</td>\n",
       "      <td>90.0</td>\n",
       "      <td>100.0</td>\n",
       "      <td>83.0</td>\n",
       "      <td>\"A\"</td>\n",
       "      <td>NaN</td>\n",
       "    </tr>\n",
       "    <tr>\n",
       "      <th>9</th>\n",
       "      <td>Backus</td>\n",
       "      <td>\"Jim\"</td>\n",
       "      <td>\"143-12-1234\"</td>\n",
       "      <td>48.0</td>\n",
       "      <td>1.0</td>\n",
       "      <td>97.0</td>\n",
       "      <td>96.0</td>\n",
       "      <td>97.0</td>\n",
       "      <td>\"A+\"</td>\n",
       "    </tr>\n",
       "    <tr>\n",
       "      <th>10</th>\n",
       "      <td>Carnivore</td>\n",
       "      <td>\"Art\"</td>\n",
       "      <td>\"565-89-0123\"</td>\n",
       "      <td>44.0</td>\n",
       "      <td>1.0</td>\n",
       "      <td>80.0</td>\n",
       "      <td>60.0</td>\n",
       "      <td>40.0</td>\n",
       "      <td>\"D+\"</td>\n",
       "    </tr>\n",
       "    <tr>\n",
       "      <th>11</th>\n",
       "      <td>Dandy</td>\n",
       "      <td>\"Jim\"</td>\n",
       "      <td>\"087-75-4321\"</td>\n",
       "      <td>47.0</td>\n",
       "      <td>1.0</td>\n",
       "      <td>23.0</td>\n",
       "      <td>36.0</td>\n",
       "      <td>45.0</td>\n",
       "      <td>\"C+\"</td>\n",
       "    </tr>\n",
       "    <tr>\n",
       "      <th>12</th>\n",
       "      <td>Elephant</td>\n",
       "      <td>\"Ima\"</td>\n",
       "      <td>\"456-71-9012\"</td>\n",
       "      <td>45.0</td>\n",
       "      <td>1.0</td>\n",
       "      <td>78.0</td>\n",
       "      <td>88.0</td>\n",
       "      <td>77.0</td>\n",
       "      <td>\"B-\"</td>\n",
       "    </tr>\n",
       "    <tr>\n",
       "      <th>13</th>\n",
       "      <td>Franklin</td>\n",
       "      <td>\"Benny\"</td>\n",
       "      <td>\"234-56-2890\"</td>\n",
       "      <td>50.0</td>\n",
       "      <td>1.0</td>\n",
       "      <td>90.0</td>\n",
       "      <td>80.0</td>\n",
       "      <td>90.0</td>\n",
       "      <td>\"B-\"</td>\n",
       "    </tr>\n",
       "    <tr>\n",
       "      <th>14</th>\n",
       "      <td>George</td>\n",
       "      <td>\"Boy\"</td>\n",
       "      <td>\"345-67-3901\"</td>\n",
       "      <td>40.0</td>\n",
       "      <td>1.0</td>\n",
       "      <td>11.0</td>\n",
       "      <td>-1.0</td>\n",
       "      <td>4.0</td>\n",
       "      <td>\"B\"</td>\n",
       "    </tr>\n",
       "    <tr>\n",
       "      <th>15</th>\n",
       "      <td>Heffalump</td>\n",
       "      <td>\"Harvey\"</td>\n",
       "      <td>\"632-79-9439\"</td>\n",
       "      <td>30.0</td>\n",
       "      <td>1.0</td>\n",
       "      <td>20.0</td>\n",
       "      <td>30.0</td>\n",
       "      <td>40.0</td>\n",
       "      <td>\"C\"</td>\n",
       "    </tr>\n",
       "  </tbody>\n",
       "</table>\n",
       "</div>"
      ],
      "text/plain": [
       "    Last name        First name                    SSN           Test1  Test2  \\\n",
       "0     Alfalfa        \"Aloysius\"          \"123-45-6789\"            40.0   90.0   \n",
       "1      Alfred      \"University\"          \"123-12-1234\"            41.0   97.0   \n",
       "2       Gerty          \"Gramma\"          \"567-89-0123\"            41.0   80.0   \n",
       "3     Android        \"Electric\"          \"087-65-4321\"            42.0   23.0   \n",
       "4     Bumpkin            \"Fred\"          \"456-78-9012\"            43.0   78.0   \n",
       "5      Rubble           \"Betty\"          \"234-56-7890\"            44.0   90.0   \n",
       "6      Noshow           \"Cecil\"          \"345-67-8901\"            45.0   11.0   \n",
       "7        Buff             \"Bif\"          \"632-79-9939\"            46.0   20.0   \n",
       "8     Airpump          \"Andrew\"          \"223-45-6789\"   49.0      1.0   90.0   \n",
       "9      Backus             \"Jim\"          \"143-12-1234\"            48.0    1.0   \n",
       "10  Carnivore             \"Art\"          \"565-89-0123\"            44.0    1.0   \n",
       "11      Dandy             \"Jim\"          \"087-75-4321\"            47.0    1.0   \n",
       "12   Elephant             \"Ima\"          \"456-71-9012\"            45.0    1.0   \n",
       "13   Franklin           \"Benny\"          \"234-56-2890\"            50.0    1.0   \n",
       "14     George             \"Boy\"          \"345-67-3901\"            40.0    1.0   \n",
       "15  Heffalump          \"Harvey\"          \"632-79-9439\"            30.0    1.0   \n",
       "\n",
       "    Test3  Test4     Final    Grade  \n",
       "0   100.0   83.0      49.0     \"D-\"  \n",
       "1    96.0   97.0      48.0     \"D+\"  \n",
       "2    60.0   40.0      44.0      \"C\"  \n",
       "3    36.0   45.0      47.0     \"B-\"  \n",
       "4    88.0   77.0      45.0     \"A-\"  \n",
       "5    80.0   90.0      46.0     \"C-\"  \n",
       "6    -1.0    4.0      43.0      \"F\"  \n",
       "7    30.0   40.0      50.0     \"B+\"  \n",
       "8   100.0   83.0       \"A\"      NaN  \n",
       "9    97.0   96.0      97.0     \"A+\"  \n",
       "10   80.0   60.0      40.0     \"D+\"  \n",
       "11   23.0   36.0      45.0     \"C+\"  \n",
       "12   78.0   88.0      77.0     \"B-\"  \n",
       "13   90.0   80.0      90.0     \"B-\"  \n",
       "14   11.0   -1.0       4.0      \"B\"  \n",
       "15   20.0   30.0      40.0      \"C\"  "
      ]
     },
     "execution_count": 20,
     "metadata": {},
     "output_type": "execute_result"
    }
   ],
   "source": [
    "new_cols = [c.replace(\"\\\"\", \"\").strip() for c in df.columns]\n",
    "df.columns = new_cols\n",
    "df"
   ]
  },
  {
   "cell_type": "code",
   "execution_count": 21,
   "id": "a177bc64-f0f0-4efa-9575-810d91b8aa8f",
   "metadata": {},
   "outputs": [
    {
     "data": {
      "text/html": [
       "<div>\n",
       "<style scoped>\n",
       "    .dataframe tbody tr th:only-of-type {\n",
       "        vertical-align: middle;\n",
       "    }\n",
       "\n",
       "    .dataframe tbody tr th {\n",
       "        vertical-align: top;\n",
       "    }\n",
       "\n",
       "    .dataframe thead th {\n",
       "        text-align: right;\n",
       "    }\n",
       "</style>\n",
       "<table border=\"1\" class=\"dataframe\">\n",
       "  <thead>\n",
       "    <tr style=\"text-align: right;\">\n",
       "      <th></th>\n",
       "      <th>Last name</th>\n",
       "      <th>First name</th>\n",
       "      <th>SSN</th>\n",
       "      <th>Test1</th>\n",
       "      <th>Test2</th>\n",
       "      <th>Test3</th>\n",
       "      <th>Test4</th>\n",
       "      <th>Final</th>\n",
       "      <th>Grade</th>\n",
       "    </tr>\n",
       "  </thead>\n",
       "  <tbody>\n",
       "    <tr>\n",
       "      <th>3</th>\n",
       "      <td>Android</td>\n",
       "      <td>\"Electric\"</td>\n",
       "      <td>\"087-65-4321\"</td>\n",
       "      <td>42.0</td>\n",
       "      <td>23.0</td>\n",
       "      <td>36.0</td>\n",
       "      <td>45.0</td>\n",
       "      <td>47.0</td>\n",
       "      <td>\"B-\"</td>\n",
       "    </tr>\n",
       "    <tr>\n",
       "      <th>7</th>\n",
       "      <td>Buff</td>\n",
       "      <td>\"Bif\"</td>\n",
       "      <td>\"632-79-9939\"</td>\n",
       "      <td>46.0</td>\n",
       "      <td>20.0</td>\n",
       "      <td>30.0</td>\n",
       "      <td>40.0</td>\n",
       "      <td>50.0</td>\n",
       "      <td>\"B+\"</td>\n",
       "    </tr>\n",
       "  </tbody>\n",
       "</table>\n",
       "</div>"
      ],
      "text/plain": [
       "  Last name     First name                    SSN  Test1  Test2  Test3  Test4  \\\n",
       "3   Android     \"Electric\"          \"087-65-4321\"   42.0   23.0   36.0   45.0   \n",
       "7      Buff          \"Bif\"          \"632-79-9939\"   46.0   20.0   30.0   40.0   \n",
       "\n",
       "      Final    Grade  \n",
       "3      47.0     \"B-\"  \n",
       "7      50.0     \"B+\"  "
      ]
     },
     "execution_count": 21,
     "metadata": {},
     "output_type": "execute_result"
    }
   ],
   "source": [
    "df[~(df[\"Test2\"] < 20) & (df[\"Test3\"] < 40)]"
   ]
  },
  {
   "cell_type": "code",
   "execution_count": 22,
   "id": "99a57415",
   "metadata": {},
   "outputs": [
    {
     "data": {
      "text/plain": [
       "mean     36.625\n",
       "sum     586.000\n",
       "Name: Test2, dtype: float64"
      ]
     },
     "execution_count": 22,
     "metadata": {},
     "output_type": "execute_result"
    }
   ],
   "source": [
    "df[\"Test2\"].agg([\"mean\", \"sum\"])"
   ]
  },
  {
   "cell_type": "code",
   "execution_count": 23,
   "id": "688f26e0",
   "metadata": {},
   "outputs": [
    {
     "data": {
      "text/plain": [
       "np.int64(1)"
      ]
     },
     "execution_count": 23,
     "metadata": {},
     "output_type": "execute_result"
    }
   ],
   "source": [
    "df[\"Test2\"].argmax()"
   ]
  }
 ],
 "metadata": {
  "kernelspec": {
   "display_name": "venv",
   "language": "python",
   "name": "python3"
  },
  "language_info": {
   "codemirror_mode": {
    "name": "ipython",
    "version": 3
   },
   "file_extension": ".py",
   "mimetype": "text/x-python",
   "name": "python",
   "nbconvert_exporter": "python",
   "pygments_lexer": "ipython3",
   "version": "3.12.1"
  }
 },
 "nbformat": 4,
 "nbformat_minor": 5
}
