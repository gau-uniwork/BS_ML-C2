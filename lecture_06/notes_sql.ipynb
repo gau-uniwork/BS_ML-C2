{
 "cells": [
  {
   "cell_type": "markdown",
   "metadata": {},
   "source": [
    "# SQL"
   ]
  },
  {
   "cell_type": "markdown",
   "metadata": {},
   "source": [
    "#### SQL SERVER"
   ]
  },
  {
   "cell_type": "code",
   "execution_count": null,
   "metadata": {},
   "outputs": [],
   "source": [
    "!pip install pyodbc"
   ]
  },
  {
   "cell_type": "code",
   "execution_count": 1,
   "metadata": {},
   "outputs": [],
   "source": [
    "import pyodbc"
   ]
  },
  {
   "cell_type": "code",
   "execution_count": 2,
   "metadata": {},
   "outputs": [],
   "source": [
    "conn_str = \"Driver=SQL SERVER;Server={YOUR_SQLSERVER};Database={DATABASE};Trust_Coneection=yes;\""
   ]
  },
  {
   "cell_type": "code",
   "execution_count": 5,
   "metadata": {},
   "outputs": [
    {
     "name": "stdout",
     "output_type": "stream",
     "text": [
      "(1, 'GeForce RTX 4090', 1, Decimal('1000.0000'), 5, 'https://m.media-amazon.com/images/I/51c1zFDNVmL._AC_SL1003_.jpg')\n"
     ]
    }
   ],
   "source": [
    "conn = pyodbc.connect(conn_str)\n",
    "\n",
    "curr = conn.cursor()\n",
    "\n",
    "curr.execute(\"SELECT * FROM Product WHERE id = ?\", 1)\n",
    "rows = curr.fetchall()\n",
    "# curr.fetchone()\n",
    "# curr.fetchmany(2)\n",
    "\n",
    "for row in rows:\n",
    "    print(row)"
   ]
  },
  {
   "cell_type": "code",
   "execution_count": null,
   "metadata": {},
   "outputs": [],
   "source": [
    "curr.execute(\"INSERT INTO Categories VALUES(?, ?)\", (\"cat1\", \"sdfsdf\"))\n",
    "\n",
    "curr.commit()"
   ]
  },
  {
   "cell_type": "code",
   "execution_count": 4,
   "metadata": {},
   "outputs": [],
   "source": [
    "conn.close()"
   ]
  },
  {
   "cell_type": "markdown",
   "metadata": {},
   "source": [
    "#### MYSQL"
   ]
  },
  {
   "cell_type": "code",
   "execution_count": null,
   "metadata": {},
   "outputs": [],
   "source": [
    "!pip install mysql-connector-python"
   ]
  },
  {
   "cell_type": "code",
   "execution_count": 1,
   "metadata": {},
   "outputs": [],
   "source": [
    "import mysql.connector"
   ]
  },
  {
   "cell_type": "code",
   "execution_count": null,
   "metadata": {},
   "outputs": [],
   "source": [
    "db = mysql.connector.connect(\n",
    "  host=\"localhost\",\n",
    "  user=\"root\",\n",
    "  password=\"\"\n",
    ")\n",
    "\n",
    "curr = db.cursor()\n",
    "curr.execute(\"CREATE DATABASE estore\")"
   ]
  },
  {
   "cell_type": "code",
   "execution_count": 3,
   "metadata": {},
   "outputs": [
    {
     "name": "stdout",
     "output_type": "stream",
     "text": [
      "('estore',)\n",
      "('information_schema',)\n",
      "('mysql',)\n",
      "('performance_schema',)\n",
      "('sys',)\n"
     ]
    }
   ],
   "source": [
    "curr.execute(\"SHOW DATABASES\")\n",
    "for d in curr:\n",
    "    print(d)"
   ]
  },
  {
   "cell_type": "code",
   "execution_count": null,
   "metadata": {},
   "outputs": [],
   "source": [
    "db = mysql.connector.connect(\n",
    "  host=\"localhost\",\n",
    "  user=\"root\",\n",
    "  password=\"\",\n",
    "  database=\"estore\"\n",
    ")\n",
    "curr = db.cursor()\n",
    "\n",
    "curr.execute(\"CREATE TABLE Product (name VARCHAR(255), description VARCHAR(500), price DECIMAL(4, 2))\")"
   ]
  },
  {
   "cell_type": "code",
   "execution_count": 42,
   "metadata": {},
   "outputs": [],
   "source": [
    "curr.reset()"
   ]
  },
  {
   "cell_type": "code",
   "execution_count": 11,
   "metadata": {},
   "outputs": [
    {
     "name": "stdout",
     "output_type": "stream",
     "text": [
      "('Product',)\n"
     ]
    }
   ],
   "source": [
    "curr.execute(\"SHOW TABLES\")\n",
    "for t in curr:\n",
    "    print(t)"
   ]
  },
  {
   "cell_type": "code",
   "execution_count": 12,
   "metadata": {},
   "outputs": [],
   "source": [
    "curr.reset()"
   ]
  },
  {
   "cell_type": "code",
   "execution_count": 36,
   "metadata": {},
   "outputs": [
    {
     "data": {
      "text/plain": [
       "2"
      ]
     },
     "execution_count": 36,
     "metadata": {},
     "output_type": "execute_result"
    }
   ],
   "source": [
    "sql = \"INSERT INTO Product (name, description, price) VALUES(%s, %s, %s)\"\n",
    "# val = (\"GeForce RTX 4090\", \"awesome\", 10)\n",
    "val = [\n",
    "    (\"GeForce RTX 4090\", \"awesome\", 10),\n",
    "    (\"Intel Core i9-12kf\", \"awesome\", 10)\n",
    "]\n",
    "\n",
    "# curr.execute(sql, val)\n",
    "curr.executemany(sql, val)\n",
    "db.commit()\n",
    "curr.rowcount"
   ]
  },
  {
   "cell_type": "code",
   "execution_count": 44,
   "metadata": {},
   "outputs": [
    {
     "name": "stdout",
     "output_type": "stream",
     "text": [
      "('GeForce RTX 4090', 'awesome', Decimal('10.00'))\n",
      "('GeForce RTX 4090', 'awesome', Decimal('10.00'))\n",
      "('GeForce RTX 4090', 'awesome', Decimal('10.00'))\n",
      "('GeForce RTX 4090', 'awesome', Decimal('10.00'))\n",
      "('GeForce RTX 4090', 'awesome', Decimal('10.00'))\n",
      "('GeForce RTX 4090', 'awesome', Decimal('10.00'))\n",
      "('GeForce RTX 4090', 'awesome', Decimal('10.00'))\n",
      "('GeForce RTX 4090', 'awesome', Decimal('10.00'))\n",
      "('Intel Core i9-12kf', 'awesome', Decimal('10.00'))\n"
     ]
    }
   ],
   "source": [
    "curr.reset()\n",
    "curr.execute(\"SELECT * From Product\")\n",
    "\n",
    "products = curr.fetchall()\n",
    "\n",
    "for p in products:\n",
    "    print(p)"
   ]
  }
 ],
 "metadata": {
  "kernelspec": {
   "display_name": "venv",
   "language": "python",
   "name": "python3"
  },
  "language_info": {
   "codemirror_mode": {
    "name": "ipython",
    "version": 3
   },
   "file_extension": ".py",
   "mimetype": "text/x-python",
   "name": "python",
   "nbconvert_exporter": "python",
   "pygments_lexer": "ipython3",
   "version": "3.12.1"
  }
 },
 "nbformat": 4,
 "nbformat_minor": 2
}
